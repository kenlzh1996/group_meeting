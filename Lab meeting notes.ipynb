{
 "cells": [
  {
   "cell_type": "markdown",
   "id": "7ad77a83",
   "metadata": {},
   "source": [
    "lab meeting 09142023"
   ]
  },
  {
   "cell_type": "markdown",
   "id": "d29cbb93",
   "metadata": {},
   "source": [
    "# version control\n",
    "git --init # initalize empty git repository\n",
    "\n",
    "command+shift+. # show hidden files and directory\n",
    "\n",
    "create classic token to secure access to repo\n",
    "\n"
   ]
  }
 ],
 "metadata": {
  "kernelspec": {
   "display_name": "Python 3 (ipykernel)",
   "language": "python",
   "name": "python3"
  },
  "language_info": {
   "codemirror_mode": {
    "name": "ipython",
    "version": 3
   },
   "file_extension": ".py",
   "mimetype": "text/x-python",
   "name": "python",
   "nbconvert_exporter": "python",
   "pygments_lexer": "ipython3",
   "version": "3.10.11"
  }
 },
 "nbformat": 4,
 "nbformat_minor": 5
}
