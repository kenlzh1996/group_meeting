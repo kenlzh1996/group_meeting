{
 "cells": [
  {
   "cell_type": "markdown",
   "id": "7ad77a83",
   "metadata": {},
   "source": [
    "lab meeting 09142023"
   ]
  },
  {
   "cell_type": "markdown",
   "id": "d29cbb93",
   "metadata": {},
   "source": [
    "# version control\n",
    "git --init # initalize empty git repository\n",
    "\n",
    "command+shift+. # show hidden files and directory\n",
    "\n",
    "create classic token to secure access to repo\n",
    "\n",
    "git add -all\n",
    "git commit -m \"any message\"\n",
    "git push -u origin main\n"
   ]
  },
  {
   "cell_type": "markdown",
   "id": "07a5e2ac",
   "metadata": {},
   "source": [
    "# everytime you edit the file, start a new branch first\n",
    "\n",
    "git branch anyname\n"
   ]
  },
  {
   "cell_type": "markdown",
   "id": "3509dd73",
   "metadata": {},
   "source": []
  }
 ],
 "metadata": {
  "kernelspec": {
   "display_name": "Python 3 (ipykernel)",
   "language": "python",
   "name": "python3"
  },
  "language_info": {
   "codemirror_mode": {
    "name": "ipython",
    "version": 3
   },
   "file_extension": ".py",
   "mimetype": "text/x-python",
   "name": "python",
   "nbconvert_exporter": "python",
   "pygments_lexer": "ipython3",
   "version": "3.10.11"
  }
 },
 "nbformat": 4,
 "nbformat_minor": 5
}
