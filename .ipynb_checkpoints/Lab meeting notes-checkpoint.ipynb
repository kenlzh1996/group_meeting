{
 "cells": [
  {
   "cell_type": "code",
   "execution_count": 1,
   "id": "ab50429f",
   "metadata": {},
   "outputs": [
    {
     "name": "stdout",
     "output_type": "stream",
     "text": [
      "hello world!\n"
     ]
    }
   ],
   "source": [
    "print(\"lab meeting 09142023\")"
   ]
  },
  {
   "cell_type": "code",
   "execution_count": null,
   "id": "b86745f2",
   "metadata": {},
   "outputs": [],
   "source": [
    "# version control\n",
    "git --init # initalize empty git repository\n",
    "\n",
    "command+shift+. # show hidden files and directory\n"
   ]
  }
 ],
 "metadata": {
  "kernelspec": {
   "display_name": "Python 3 (ipykernel)",
   "language": "python",
   "name": "python3"
  },
  "language_info": {
   "codemirror_mode": {
    "name": "ipython",
    "version": 3
   },
   "file_extension": ".py",
   "mimetype": "text/x-python",
   "name": "python",
   "nbconvert_exporter": "python",
   "pygments_lexer": "ipython3",
   "version": "3.10.11"
  }
 },
 "nbformat": 4,
 "nbformat_minor": 5
}
